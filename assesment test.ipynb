{
  "nbformat": 4,
  "nbformat_minor": 0,
  "metadata": {
    "colab": {
      "name": "Sadhu&Cholito_test.ipynb",
      "provenance": []
    },
    "kernelspec": {
      "display_name": "Python 3",
      "name": "python3"
    }
  },
  "cells": [
    {
      "cell_type": "code",
      "metadata": {
        "id": "aL2rKqzNdquE"
      },
      "source": [
        "import pandas as pd\n",
        "df = pd.read_csv(\"train.csv\")"
      ],
      "execution_count": null,
      "outputs": []
    },
    {
      "cell_type": "code",
      "metadata": {
        "id": "VbDJd8JXeJRO"
      },
      "source": [
        "df.head()"
      ],
      "execution_count": null,
      "outputs": []
    },
    {
      "cell_type": "code",
      "metadata": {
        "id": "JMFBN6_qeUJ0",
        "colab": {
          "base_uri": "https://localhost:8080/"
        },
        "outputId": "e4083fc7-0b6f-48c6-e932-00d2f725c146"
      },
      "source": [
        "df.isnull().sum()"
      ],
      "execution_count": null,
      "outputs": [
        {
          "output_type": "execute_result",
          "data": {
            "text/plain": [
              "category     0\n",
              "text         0\n",
              "cleanText    0\n",
              "dtype: int64"
            ]
          },
          "metadata": {},
          "execution_count": 9
        }
      ]
    },
    {
      "cell_type": "code",
      "metadata": {
        "id": "jgKLHgKMevSg"
      },
      "source": [
        "df.dropna()"
      ],
      "execution_count": null,
      "outputs": []
    },
    {
      "cell_type": "code",
      "metadata": {
        "id": "A1wBqZHfe3MS"
      },
      "source": [
        "import matplotlib.pyplot as plt\n",
        "import seaborn as sns\n",
        "%matplotlib inline"
      ],
      "execution_count": null,
      "outputs": []
    },
    {
      "cell_type": "code",
      "metadata": {
        "id": "UEU5tcy4fAVp"
      },
      "source": [
        ""
      ],
      "execution_count": null,
      "outputs": []
    },
    {
      "cell_type": "code",
      "metadata": {
        "id": "t9UruQ5GfQq9"
      },
      "source": [
        "df['length'] = df['cleanText'].str.split().apply(len)\n",
        "df.head(20)"
      ],
      "execution_count": null,
      "outputs": []
    },
    {
      "cell_type": "code",
      "metadata": {
        "id": "GZ6XBQtMflp4"
      },
      "source": [
        "df.length.describe()"
      ],
      "execution_count": null,
      "outputs": []
    },
    {
      "cell_type": "code",
      "metadata": {
        "id": "yNVhVws6fvxs"
      },
      "source": [
        "import string \n",
        "def remove_punc(s):\n",
        "    table = str.maketrans({key: None for key in string.punctuation})\n",
        "    return s.translate(table)"
      ],
      "execution_count": null,
      "outputs": []
    },
    {
      "cell_type": "code",
      "metadata": {
        "id": "SasfQgYKf5Z7"
      },
      "source": [
        "x = df['cleanText'].fillna(' ')\n",
        "y = df['category']\n",
        "print(x.head())\n",
        "print(y.head())"
      ],
      "execution_count": null,
      "outputs": []
    },
    {
      "cell_type": "code",
      "metadata": {
        "id": "8qbQCKIDgFj_",
        "colab": {
          "base_uri": "https://localhost:8080/"
        },
        "outputId": "96db8165-2325-43e4-b3a2-986e5c35f054"
      },
      "source": [
        "x = df['cleanText'].apply(remove_punc)\n",
        "x.shape"
      ],
      "execution_count": null,
      "outputs": [
        {
          "output_type": "execute_result",
          "data": {
            "text/plain": [
              "(35667,)"
            ]
          },
          "metadata": {},
          "execution_count": 17
        }
      ]
    },
    {
      "cell_type": "code",
      "metadata": {
        "id": "iltxRrgvgP_Z"
      },
      "source": [
        "contractions = { \n",
        "\"বি.দ্র \": \"বিশেষ দ্রষ্টব্য\",\n",
        "\"ড.\": \"ডক্টর\",\n",
        "\"ডা.\": \"ডাক্তার\",\n",
        "\"ইঞ্জি:\": \"ইঞ্জিনিয়ার\",\n",
        "\"রেজি:\": \"রেজিস্ট্রেশন\",\n",
        "\"মি.\": \"মিস্টার\",\n",
        "\"মু.\": \"মুহাম্মদ\",\n",
        "\"মো.\": \"মোহাম্মদ\",\n",
        "}"
      ],
      "execution_count": null,
      "outputs": []
    },
    {
      "cell_type": "code",
      "metadata": {
        "id": "wAYBxrTpgYyw"
      },
      "source": [
        "import re\n",
        "import string\n",
        "from collections import Counter\n",
        "vocab = Counter()\n",
        "def clean_text(x,remove_stopwords = False):\n",
        "    if True:\n",
        "        new_text = []\n",
        "        for word in x:\n",
        "            if word in contractions:\n",
        "                new_text.append(contractions[word])\n",
        "            else:\n",
        "                new_text.append(word)\n",
        "        x = \"\".join(new_text)\n",
        "    # Format words and remove unwanted characters\n",
        "    whitespace = re.compile(u\"[\\s\\u0020\\u00a0\\u1680\\u180e\\u202f\\u205f\\u3000\\u2000-\\u200a]+\", re.UNICODE)\n",
        "    bangla_digits = u\"[\\u09E6\\u09E7\\u09E8\\u09E9\\u09EA\\u09EB\\u09EC\\u09ED\\u09EE\\u09EF]+\"\n",
        "    english_chars = u\"[a-zA-Z0-9]\"\n",
        "    punc = u\"[(),$%^&*+={}\\[\\]:\\\"|\\'\\~`<>/,¦!?½£¶¼©⅐⅑⅒⅓⅔⅕⅖⅗⅘⅙⅚⅛⅜⅝⅞⅟↉¤¿º;-]+\"\n",
        "    bangla_fullstop = u\"\\u0964\"     #bangla fullstop(dari)\n",
        "    punctSeq   = u\"['\\\"“”‘’]+|[.?!,…]+|[:;]+\"\n",
        "    \n",
        "    x = re.sub(bangla_digits, \" \", x)\n",
        "    x = re.sub(punc, \" \", x)\n",
        "    x = re.sub(english_chars, \" \", x)\n",
        "    x = re.sub(bangla_fullstop, \" \", x)\n",
        "    x = re.sub(punctSeq, \" \", x)\n",
        "    x = whitespace.sub(\" \", x).strip()\n",
        "    \n",
        "    x = re.sub(r'https?:\\/\\/.*[\\r\\n]*', '', x, flags=re.MULTILINE)\n",
        "    x = re.sub(r'\\<a href', ' ', x)\n",
        "    x = re.sub(r'&amp;‘:‘ ’', '', x) \n",
        "    x = re.sub(r'[_\"\\-;%()|+&=*%.,!?:#$@\\[\\]/]। ,', ' ', x)\n",
        "    x = re.sub(r'<br />', ' ', x)\n",
        "    x = re.sub(r'\\'', ' ', x)\n",
        "    x = re.sub(r\"[\\@$#%~+-\\.\\'।\\\"]\",\" \",x)\n",
        "    x = re.sub(r\"(?m)^\\s+\", \"\", x)\n",
        "    x = re.sub(\"[()]\",\"\",x)\n",
        "    x = re.sub(\"[‘’]\",\"\",x)\n",
        "    x = re.sub(\"[!]\",\"\",x)\n",
        "    x = re.sub(\"[/]\",\"\",x)\n",
        "    x = re.sub(\"[:]\",\"\",x)\n",
        "    x = re.sub('\\ |\\?|\\.|\\!|\\/|\\;|\\:', ' ',x)\n",
        "    x = x.strip(\"/\")\n",
        "    \n",
        "    if remove_stopwords:\n",
        "        k = []\n",
        "        with open('/content/Banglastopword.txt', 'r',encoding=\"utf-8\") as f:\n",
        "            for word in f:\n",
        "                word = word.split()\n",
        "                k.append(word[0])\n",
        "            x = [t for t in x if t not in k]\n",
        "            x = \"\".join(x)\n",
        "   \n",
        "\n",
        "    return x"
      ],
      "execution_count": null,
      "outputs": []
    },
    {
      "cell_type": "code",
      "metadata": {
        "id": "F14vXKoggvwY"
      },
      "source": [
        "import matplotlib.pyplot as plt\n",
        "import seaborn as sns\n",
        "import nltk\n",
        "from nltk.corpus import stopwords\n",
        "import string\n",
        "import math\n",
        "from sklearn.feature_extraction.text import CountVectorizer\n",
        "from sklearn.model_selection import train_test_split, cross_val_score\n",
        "from sklearn.metrics import classification_report\n",
        "from sklearn.metrics import confusion_matrix, accuracy_score, roc_auc_score, roc_curve, plot_confusion_matrix\n",
        "from sklearn.model_selection import GridSearchCV\n",
        "from sklearn import metrics\n",
        "%matplotlib inline"
      ],
      "execution_count": null,
      "outputs": []
    },
    {
      "cell_type": "code",
      "metadata": {
        "id": "jZovteF5g1_R"
      },
      "source": [
        "vocab = CountVectorizer(analyzer=clean_text,encoding='utf-8').fit(x)"
      ],
      "execution_count": null,
      "outputs": []
    },
    {
      "cell_type": "code",
      "metadata": {
        "colab": {
          "base_uri": "https://localhost:8080/"
        },
        "id": "q2vQSSDLg91b",
        "outputId": "0ead61bd-c12d-440a-efb7-b846fbe8e539"
      },
      "source": [
        "print(len(vocab.vocabulary_))"
      ],
      "execution_count": null,
      "outputs": [
        {
          "output_type": "stream",
          "name": "stdout",
          "text": [
            "153\n"
          ]
        }
      ]
    },
    {
      "cell_type": "code",
      "metadata": {
        "id": "y4SqEvWshDwn"
      },
      "source": [
        "r0 = x[81]\n",
        "print(r0)"
      ],
      "execution_count": null,
      "outputs": []
    },
    {
      "cell_type": "code",
      "metadata": {
        "id": "5G0Cu_f_hNXF"
      },
      "source": [
        "vocab0 = vocab.transform([r0])\n",
        "print(vocab0)"
      ],
      "execution_count": null,
      "outputs": []
    },
    {
      "cell_type": "code",
      "metadata": {
        "id": "h_v0eMwihQ0F"
      },
      "source": [
        "print(vocab.get_feature_names()[50])\n",
        "print(vocab.get_feature_names()[50])"
      ],
      "execution_count": null,
      "outputs": []
    },
    {
      "cell_type": "code",
      "metadata": {
        "id": "q7gDKZFJhXmr"
      },
      "source": [
        "x = vocab.transform(x)"
      ],
      "execution_count": null,
      "outputs": []
    },
    {
      "cell_type": "code",
      "metadata": {
        "id": "0p5nNbbChbvs",
        "colab": {
          "base_uri": "https://localhost:8080/"
        },
        "outputId": "d6c19e2e-72c3-4c61-cce3-cb7a7d2199c6"
      },
      "source": [
        "print(\"Shape of the sparse matrix: \", x.shape)\n",
        "print(\"Non-Zero occurences: \",x.nnz)\n",
        "density = (x.nnz/(x.shape[0]*x.shape[1]))*100\n",
        "print(\"Density of the matrix = \",density)"
      ],
      "execution_count": null,
      "outputs": [
        {
          "output_type": "stream",
          "name": "stdout",
          "text": [
            "Shape of the sparse matrix:  (35667, 153)\n",
            "Non-Zero occurences:  1692914\n",
            "Density of the matrix =  31.022506478315854\n"
          ]
        }
      ]
    },
    {
      "cell_type": "code",
      "metadata": {
        "id": "wY5_SIFAhjAu"
      },
      "source": [
        "x_train,x_test,y_train,y_test = train_test_split(x,y,test_size=0.20,random_state=101)"
      ],
      "execution_count": null,
      "outputs": []
    },
    {
      "cell_type": "code",
      "metadata": {
        "id": "KjW-uolghm3j"
      },
      "source": [
        "from sklearn.naive_bayes import MultinomialNB\n",
        "mnb = MultinomialNB()\n",
        "mnb.fit(x_train,y_train)\n",
        "predmnb = mnb.predict(x_test)\n",
        "print(\"Confusion Matrix for Multinomial Naive Bayes:\")\n",
        "print(confusion_matrix(y_test,predmnb))\n",
        "print(\"Score:\",round(accuracy_score(y_test,predmnb)*100,2))\n",
        "print(\"Classification Report:\",classification_report(y_test,predmnb))\n",
        "\n",
        "mat= plot_confusion_matrix(mnb, x_test, y_test)\n",
        "mat.ax_.set_title('confusion matrix', color='white')\n",
        "plt.xlabel('Pricted Label', color= 'white')\n",
        "plt.ylabel('True Label', color= 'white')\n",
        "plt.gcf().axes[0].tick_params(colors= 'white')\n",
        "plt.gcf().axes[1].tick_params(colors= 'white')\n",
        "plt.gcf().set_size_inches(10,6)\n"
      ],
      "execution_count": null,
      "outputs": []
    },
    {
      "cell_type": "code",
      "metadata": {
        "id": "FkqpKwxfh1II"
      },
      "source": [
        "from sklearn.ensemble import RandomForestClassifier\n",
        "rmfr = RandomForestClassifier()\n",
        "rmfr.fit(x_train,y_train)\n",
        "predrmfr = rmfr.predict(x_test)\n",
        "print(\"Confusion Matrix for Random Forest Classifier:\")\n",
        "print(confusion_matrix(y_test,predrmfr))\n",
        "print(\"Score:\",round(accuracy_score(y_test,predrmfr)*100,2))\n",
        "print(\"Classification Report:\",classification_report(y_test,predrmfr))"
      ],
      "execution_count": null,
      "outputs": []
    },
    {
      "cell_type": "code",
      "metadata": {
        "id": "FrLtun6shwFT",
        "colab": {
          "base_uri": "https://localhost:8080/"
        },
        "outputId": "7dc393cc-e32b-4d27-ede7-37beb5848315"
      },
      "source": [
        "acc1=metrics.accuracy_score(y_test, predmnb)\n",
        "print(\"Accuracy:\",acc1*100,\"%\")"
      ],
      "execution_count": null,
      "outputs": [
        {
          "output_type": "stream",
          "name": "stdout",
          "text": [
            "Accuracy: 56.36389122511915 %\n"
          ]
        }
      ]
    },
    {
      "cell_type": "code",
      "metadata": {
        "id": "T4k1CXd5iBNn"
      },
      "source": [
        "acc2=metrics.accuracy_score(y_test,predrmfr)\n",
        "print(\"Accuracy:\",acc2*100,\"%\")\n",
        "\n",
        "mat= plot_confusion_matrix(rmfr, x_test, y_test)\n",
        "mat.ax_.set_title('confusion matrix', color='white')\n",
        "plt.xlabel('Pricted Label', color= 'white')\n",
        "plt.ylabel('True Label', color= 'white')\n",
        "plt.gcf().axes[0].tick_params(colors= 'white')\n",
        "plt.gcf().axes[1].tick_params(colors= 'white')\n",
        "plt.gcf().set_size_inches(10,6)"
      ],
      "execution_count": null,
      "outputs": []
    },
    {
      "cell_type": "code",
      "metadata": {
        "id": "PXNHhmLAiEPd"
      },
      "source": [
        "from sklearn.tree import DecisionTreeClassifier\n",
        "dt = DecisionTreeClassifier()\n",
        "dt.fit(x_train,y_train)\n",
        "preddt = dt.predict(x_test)\n",
        "print(\"Confusion Matrix for Decision Tree:\")\n",
        "print(confusion_matrix(y_test,preddt))\n",
        "print(\"Score:\",round(accuracy_score(y_test,preddt)*100,2))\n",
        "print(\"Classification Report:\",classification_report(y_test,preddt))"
      ],
      "execution_count": null,
      "outputs": []
    },
    {
      "cell_type": "code",
      "metadata": {
        "id": "DjPrh47KiL8F"
      },
      "source": [
        "acc3=metrics.accuracy_score(y_test,preddt)\n",
        "print(\"Accuracy:\",acc3*100,\"%\")\n",
        "\n",
        "mat= plot_confusion_matrix(dt, x_test, y_test)\n",
        "mat.ax_.set_title('confusion matrix', color='white')\n",
        "plt.xlabel('Pricted Label', color= 'white')\n",
        "plt.ylabel('True Label', color= 'white')\n",
        "plt.gcf().axes[0].tick_params(colors= 'white')\n",
        "plt.gcf().axes[1].tick_params(colors= 'white')\n",
        "plt.gcf().set_size_inches(10,6)"
      ],
      "execution_count": null,
      "outputs": []
    },
    {
      "cell_type": "code",
      "metadata": {
        "id": "1Ew3nK6niOfd",
        "colab": {
          "base_uri": "https://localhost:8080/"
        },
        "outputId": "044fd6dc-b569-41c9-c31f-4646a3972467"
      },
      "source": [
        "from sklearn.svm import SVC\n",
        "svm = SVC(random_state=101)\n",
        "svm.fit(x_train,y_train)\n",
        "predsvm = svm.predict(x_test)\n",
        "print(\"Confusion Matrix for Support Vector Machines:\")\n",
        "print(confusion_matrix(y_test,predsvm))\n",
        "print(\"Score:\",round(accuracy_score(y_test,predsvm)*100,2))\n",
        "print(\"Classification Report:\",classification_report(y_test,predsvm))"
      ],
      "execution_count": null,
      "outputs": [
        {
          "output_type": "stream",
          "name": "stdout",
          "text": [
            "Confusion Matrix for Support Vector Machines:\n",
            "[[584  78  40  77  55 108  46]\n",
            " [ 71 641  34  52   6  80  44]\n",
            " [ 45  75 768  83  66  92  35]\n",
            " [ 65  49  87 732  40  94  38]\n",
            " [ 29  35  56  47 905  17  23]\n",
            " [ 81  96  72 112  19 707   5]\n",
            " [ 99  67  28  98  62  13 378]]\n",
            "Score: 66.09\n",
            "Classification Report:                precision    recall  f1-score   support\n",
            "\n",
            "      economy       0.60      0.59      0.60       988\n",
            "    education       0.62      0.69      0.65       928\n",
            "entertainment       0.71      0.66      0.68      1164\n",
            "international       0.61      0.66      0.63      1105\n",
            "       sports       0.78      0.81      0.80      1112\n",
            "        state       0.64      0.65      0.64      1092\n",
            "   technology       0.66      0.51      0.58       745\n",
            "\n",
            "     accuracy                           0.66      7134\n",
            "    macro avg       0.66      0.65      0.65      7134\n",
            " weighted avg       0.66      0.66      0.66      7134\n",
            "\n"
          ]
        }
      ]
    },
    {
      "cell_type": "code",
      "metadata": {
        "id": "ZaddjJQJiWbg",
        "colab": {
          "base_uri": "https://localhost:8080/",
          "height": 421
        },
        "outputId": "9b538274-2c12-4f66-d435-e206c284819a"
      },
      "source": [
        "import pickle\n",
        "\n",
        "acc4=metrics.accuracy_score(y_test,predsvm)\n",
        "print(\"Accuracy:\",acc4*100,\"%\")\n",
        "\n",
        "mat= plot_confusion_matrix(svm, x_test, y_test)\n",
        "mat.ax_.set_title('confusion matrix', color='white')\n",
        "plt.xlabel('Pricted Label', color= 'white')\n",
        "plt.ylabel('True Label', color= 'white')\n",
        "plt.gcf().axes[0].tick_params(colors= 'white')\n",
        "plt.gcf().axes[1].tick_params(colors= 'white')\n",
        "plt.gcf().set_size_inches(10,6)"
      ],
      "execution_count": null,
      "outputs": [
        {
          "output_type": "stream",
          "name": "stdout",
          "text": [
            "Accuracy: 66.0919540229885 %\n"
          ]
        },
        {
          "output_type": "display_data",
          "data": {
            "image/png": "[encoded data removed]",
            "text/plain": [
              "<Figure size 720x432 with 2 Axes>"
            ]
          },
          "metadata": {
            "needs_background": "dark"
          }
        }
      ]
    },
    {
      "cell_type": "code",
      "metadata": {
        "id": "e0eZdgy3ibv9",
        "colab": {
          "base_uri": "https://localhost:8080/"
        },
        "outputId": "96fec965-2384-469a-e80f-970f6b376b70"
      },
      "source": [
        "from sklearn.neighbors import KNeighborsClassifier\n",
        "knn = KNeighborsClassifier(n_neighbors=3)\n",
        "knn.fit(x_train,y_train)\n",
        "predknn = knn.predict(x_test)\n",
        "print(\"Confusion Matrix for K Neighbors Classifier:\")\n",
        "print(confusion_matrix(y_test,predknn))\n",
        "print(\"Score: \",round(accuracy_score(y_test,predknn)*100,2))\n",
        "print(\"Classification Report:\")\n",
        "print(classification_report(y_test,predknn))"
      ],
      "execution_count": null,
      "outputs": [
        {
          "output_type": "stream",
          "name": "stdout",
          "text": [
            "Confusion Matrix for K Neighbors Classifier:\n",
            "[[594  90  45  80  40  86  53]\n",
            " [179 569  53  38   7  52  30]\n",
            " [135  62 701  85  89  76  16]\n",
            " [187  90 143 511  45  96  33]\n",
            " [ 63  32  95  59 827  18  18]\n",
            " [205 136  92 123  21 507   8]\n",
            " [175  89  57  94  59  17 254]]\n",
            "Score:  55.55\n",
            "Classification Report:\n",
            "               precision    recall  f1-score   support\n",
            "\n",
            "      economy       0.39      0.60      0.47       988\n",
            "    education       0.53      0.61      0.57       928\n",
            "entertainment       0.59      0.60      0.60      1164\n",
            "international       0.52      0.46      0.49      1105\n",
            "       sports       0.76      0.74      0.75      1112\n",
            "        state       0.60      0.46      0.52      1092\n",
            "   technology       0.62      0.34      0.44       745\n",
            "\n",
            "     accuracy                           0.56      7134\n",
            "    macro avg       0.57      0.55      0.55      7134\n",
            " weighted avg       0.57      0.56      0.56      7134\n",
            "\n"
          ]
        }
      ]
    },
    {
      "cell_type": "code",
      "metadata": {
        "id": "HgbX8dXLigc9",
        "colab": {
          "base_uri": "https://localhost:8080/",
          "height": 421
        },
        "outputId": "3a8bb201-211d-4e10-e952-5a5856c41102"
      },
      "source": [
        "acc5=metrics.accuracy_score(y_test,predknn)\n",
        "print(\"Accuracy:\",acc5*100,\"%\")\n",
        "\n",
        "mat= plot_confusion_matrix(knn, x_test, y_test)\n",
        "mat.ax_.set_title('confusion matrix', color='white')\n",
        "plt.xlabel('Pricted Label', color= 'white')\n",
        "plt.ylabel('True Label', color= 'white')\n",
        "plt.gcf().axes[0].tick_params(colors= 'white')\n",
        "plt.gcf().axes[1].tick_params(colors= 'white')\n",
        "plt.gcf().set_size_inches(10,6)"
      ],
      "execution_count": null,
      "outputs": [
        {
          "output_type": "stream",
          "name": "stdout",
          "text": [
            "Accuracy: 55.550883095037854 %\n"
          ]
        },
        {
          "output_type": "display_data",
          "data": {
            "image/png": "[encoded data removed]",
            "text/plain": [
              "<Figure size 720x432 with 2 Axes>"
            ]
          },
          "metadata": {
            "needs_background": "dark"
          }
        }
      ]
    },
    {
      "cell_type": "code",
      "metadata": {
        "id": "BS9ieutmik9H",
        "colab": {
          "base_uri": "https://localhost:8080/"
        },
        "outputId": "30032635-8a33-4922-af40-70029d7d1530"
      },
      "source": [
        "from xgboost import XGBClassifier\n",
        "xgb = XGBClassifier()\n",
        "xgb.fit(x_train,y_train)\n",
        "predxgb = xgb.predict(x_test)\n",
        "print(\"Confusion Matrix for xgboost Classifier:\")\n",
        "print(confusion_matrix(y_test,predxgb))\n",
        "print(\"Score: \",round(accuracy_score(y_test,predxgb)*100,2))\n",
        "print(\"Classification Report:\")\n",
        "print(classification_report(y_test,predxgb))"
      ],
      "execution_count": null,
      "outputs": [
        {
          "output_type": "stream",
          "name": "stdout",
          "text": [
            "Confusion Matrix for xgboost Classifier:\n",
            "[[583  49  53  81  53 106  63]\n",
            " [ 67 611  33  78  15  83  41]\n",
            " [ 55  41 679 105 127 119  38]\n",
            " [ 75  33  76 713  50 118  40]\n",
            " [ 33  13  63  48 883  32  40]\n",
            " [ 94 103  57 148  29 649  12]\n",
            " [ 98  49  24  91  93  15 375]]\n",
            "Score:  62.98\n",
            "Classification Report:\n",
            "               precision    recall  f1-score   support\n",
            "\n",
            "      economy       0.58      0.59      0.59       988\n",
            "    education       0.68      0.66      0.67       928\n",
            "entertainment       0.69      0.58      0.63      1164\n",
            "international       0.56      0.65      0.60      1105\n",
            "       sports       0.71      0.79      0.75      1112\n",
            "        state       0.58      0.59      0.59      1092\n",
            "   technology       0.62      0.50      0.55       745\n",
            "\n",
            "     accuracy                           0.63      7134\n",
            "    macro avg       0.63      0.62      0.63      7134\n",
            " weighted avg       0.63      0.63      0.63      7134\n",
            "\n"
          ]
        }
      ]
    },
    {
      "cell_type": "code",
      "metadata": {
        "id": "vgRSemCPipwO",
        "colab": {
          "base_uri": "https://localhost:8080/",
          "height": 421
        },
        "outputId": "da664389-3358-4e9b-a2c9-33e305ebccda"
      },
      "source": [
        "acc6=metrics.accuracy_score(y_test,predxgb)\n",
        "print(\"Accuracy:\",acc6*100,\"%\")\n",
        "\n",
        "mat= plot_confusion_matrix(xgb, x_test, y_test)\n",
        "mat.ax_.set_title('confusion matrix', color='white')\n",
        "plt.xlabel('Pricted Label', color= 'white')\n",
        "plt.ylabel('True Label', color= 'white')\n",
        "plt.gcf().axes[0].tick_params(colors= 'white')\n",
        "plt.gcf().axes[1].tick_params(colors= 'white')\n",
        "plt.gcf().set_size_inches(10,6)"
      ],
      "execution_count": null,
      "outputs": [
        {
          "output_type": "stream",
          "name": "stdout",
          "text": [
            "Accuracy: 62.980095318194564 %\n"
          ]
        },
        {
          "output_type": "display_data",
          "data": {
            "image/png": "[encoded data removed]",
            "text/plain": [
              "<Figure size 720x432 with 2 Axes>"
            ]
          },
          "metadata": {
            "needs_background": "dark"
          }
        }
      ]
    },
    {
      "cell_type": "code",
      "metadata": {
        "id": "4cUSEageivDt",
        "colab": {
          "base_uri": "https://localhost:8080/",
          "height": 452
        },
        "outputId": "c6b57d2d-699e-49c6-a1ec-c38634fd5b90"
      },
      "source": [
        "import matplotlib.pyplot as plt; plt.rcdefaults()\n",
        "import numpy as np\n",
        "import matplotlib.pyplot as plt\n",
        "\n",
        "objects = ('NB','RF','DT','SVM','KNN','XGB')\n",
        "y_pos = np.arange(len(objects))\n",
        "performance = [acc1,acc2,acc3,acc4,acc5,acc6]\n",
        "\n",
        "plt.bar(y_pos, performance, align='center', alpha=0.5)\n",
        "plt.xticks(y_pos, objects)\n",
        "plt.ylabel('Score')\n",
        "plt.title('Best Accuracy')\n",
        "\n",
        "plt.show()"
      ],
      "execution_count": null,
      "outputs": [
        {
          "output_type": "display_data",
          "data": {
            "image/png": "[encoded data removed]",
            "text/plain": [
              "<Figure size 640x480 with 1 Axes>"
            ]
          },
          "metadata": {}
        }
      ]
    },
    {
      "cell_type": "code",
      "metadata": {
        "id": "O433iI41jpSA"
      },
      "source": [
        ""
      ],
      "execution_count": null,
      "outputs": []
    },
    {
      "cell_type": "code",
      "metadata": {
        "id": "2RVbIoTLk2Pf"
      },
      "source": [
        ""
      ],
      "execution_count": null,
      "outputs": []
    },
    {
      "cell_type": "code",
      "metadata": {
        "id": "0s3sb6WFlJIi"
      },
      "source": [
        ""
      ],
      "execution_count": null,
      "outputs": []
    },
    {
      "cell_type": "code",
      "metadata": {
        "id": "MhOxNZeXlUSM"
      },
      "source": [
        ""
      ],
      "execution_count": null,
      "outputs": []
    },
    {
      "cell_type": "code",
      "metadata": {
        "id": "wBOzo5Bflf6D"
      },
      "source": [
        ""
      ],
      "execution_count": null,
      "outputs": []
    },
    {
      "cell_type": "code",
      "metadata": {
        "id": "N8-FkffslsIE"
      },
      "source": [
        ""
      ],
      "execution_count": null,
      "outputs": []
    },
    {
      "cell_type": "code",
      "metadata": {
        "id": "kRiC7wyul3cm"
      },
      "source": [
        ""
      ],
      "execution_count": null,
      "outputs": []
    },
    {
      "cell_type": "code",
      "metadata": {
        "id": "71p_sc8pJn-7"
      },
      "source": [
        ""
      ],
      "execution_count": null,
      "outputs": []
    }
  ]
}